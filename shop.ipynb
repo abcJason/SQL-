{
 "cells": [
  {
   "cell_type": "markdown",
   "metadata": {},
   "source": [
    "### 安裝mysql套件"
   ]
  },
  {
   "cell_type": "code",
   "execution_count": 12,
   "metadata": {},
   "outputs": [],
   "source": [
    "# pip install pymysql"
   ]
  },
  {
   "cell_type": "code",
   "execution_count": 13,
   "metadata": {},
   "outputs": [
    {
     "data": {
      "text/plain": [
       "'1.4.6'"
      ]
     },
     "execution_count": 13,
     "metadata": {},
     "output_type": "execute_result"
    }
   ],
   "source": [
    "import pymysql\n",
    "pymysql.__version__"
   ]
  },
  {
   "cell_type": "markdown",
   "metadata": {},
   "source": [
    "### 連接mysql"
   ]
  },
  {
   "cell_type": "code",
   "execution_count": 53,
   "metadata": {},
   "outputs": [
    {
     "data": {
      "text/plain": [
       "<pymysql.connections.Connection at 0x1ddd36eb8f0>"
      ]
     },
     "execution_count": 53,
     "metadata": {},
     "output_type": "execute_result"
    }
   ],
   "source": [
    "connect=pymysql.connect(\n",
    "    user='root',\n",
    "    password='12345678',\n",
    "    host='127.0.0.1', # localhost\n",
    "    database='shop',\n",
    "    port=3306\n",
    ")\n",
    "\n",
    "connect"
   ]
  },
  {
   "cell_type": "code",
   "execution_count": 54,
   "metadata": {},
   "outputs": [
    {
     "data": {
      "text/plain": [
       "<pymysql.cursors.Cursor at 0x1ddd36eb7a0>"
      ]
     },
     "execution_count": 54,
     "metadata": {},
     "output_type": "execute_result"
    }
   ],
   "source": [
    "cursor=connect.cursor()\n",
    "cursor"
   ]
  },
  {
   "cell_type": "markdown",
   "metadata": {},
   "source": [
    "### 查詢語法"
   ]
  },
  {
   "cell_type": "code",
   "execution_count": 55,
   "metadata": {},
   "outputs": [
    {
     "data": {
      "text/plain": [
       "((1,\n",
       "  None,\n",
       "  '12345678',\n",
       "  '123@gmail.com',\n",
       "  '0987654321',\n",
       "  '北極圈信義區大象路123號',\n",
       "  datetime.datetime(2024, 8, 24, 10, 11, 5)),)"
      ]
     },
     "execution_count": 55,
     "metadata": {},
     "output_type": "execute_result"
    }
   ],
   "source": [
    "sqlstr=\"\"\"\n",
    "        select * \n",
    "        from user \n",
    "        where id=1;\n",
    "       \"\"\"\n",
    "\n",
    "cursor.execute(sqlstr)\n",
    "users=cursor.fetchall()\n",
    "users"
   ]
  },
  {
   "cell_type": "markdown",
   "metadata": {},
   "source": [
    "### 插入語法"
   ]
  },
  {
   "cell_type": "code",
   "execution_count": 26,
   "metadata": {},
   "outputs": [
    {
     "data": {
      "text/plain": [
       "\" \\n    insert into user(username,email,password,phone,address) values('qqq','qqq@gmail.com','12345678','0977444333','sadgkhgf');\\n        \""
      ]
     },
     "execution_count": 26,
     "metadata": {},
     "output_type": "execute_result"
    }
   ],
   "source": [
    "username=input(\"姓名:\")\n",
    "email=input(\"Email:\")\n",
    "password=input(\"密碼:\")\n",
    "phone=input(\"手機號碼:\")\n",
    "address=input(\"地址:\")\n",
    "\n",
    "sqlstr=f\"\"\" \n",
    "    insert into user(username,email,password,phone,address) values('{username}','{email}','{password}','{phone}','{address}');\n",
    "        \"\"\"\n",
    "sqlstr"
   ]
  },
  {
   "cell_type": "code",
   "execution_count": 27,
   "metadata": {},
   "outputs": [],
   "source": [
    "try:\n",
    "    cursor.execute(sqlstr)\n",
    "    connect.commit()\n",
    "    print(\"寫入成功\")\n",
    "except Exception as e:\n",
    "    print(\"寫入失敗\",e)"
   ]
  },
  {
   "cell_type": "markdown",
   "metadata": {},
   "source": [
    "### 進行登入"
   ]
  },
  {
   "cell_type": "code",
   "execution_count": 19,
   "metadata": {},
   "outputs": [
    {
     "data": {
      "text/plain": [
       "\"select * from user where email='jjj@gmail.com' and 12345678\""
      ]
     },
     "execution_count": 19,
     "metadata": {},
     "output_type": "execute_result"
    }
   ],
   "source": [
    "email=input(\"Email:\")\n",
    "password=input(\"密碼:\")\n",
    "\n",
    "sqlstr=f\"select * from user where email='{email}' and {password}\"\n",
    "sqlstr"
   ]
  },
  {
   "cell_type": "code",
   "execution_count": 20,
   "metadata": {},
   "outputs": [
    {
     "data": {
      "text/plain": [
       "(6,\n",
       " 'jjj',\n",
       " '12345678',\n",
       " 'jjj@gmail.com',\n",
       " '0977123456',\n",
       " 'asdasfaddfa',\n",
       " datetime.datetime(2024, 8, 24, 11, 55, 49))"
      ]
     },
     "execution_count": 20,
     "metadata": {},
     "output_type": "execute_result"
    }
   ],
   "source": [
    "cursor.execute(sqlstr)\n",
    "user=cursor.fetchone()\n",
    "user"
   ]
  },
  {
   "cell_type": "code",
   "execution_count": 21,
   "metadata": {},
   "outputs": [
    {
     "name": "stdout",
     "output_type": "stream",
     "text": [
      "登入成功!\n"
     ]
    }
   ],
   "source": [
    "if user is not None:\n",
    "    print(\"登入成功!\")\n",
    "else:\n",
    "    print(\"登入失敗!\")"
   ]
  },
  {
   "cell_type": "code",
   "execution_count": 28,
   "metadata": {},
   "outputs": [
    {
     "data": {
      "text/plain": [
       "((1,\n",
       "  None,\n",
       "  '12345678',\n",
       "  '123@gmail.com',\n",
       "  '0987654321',\n",
       "  '北極圈信義區大象路123號',\n",
       "  datetime.datetime(2024, 8, 24, 10, 11, 5)),\n",
       " (2,\n",
       "  None,\n",
       "  '12345678',\n",
       "  'mary@gmail.com',\n",
       "  '0978222333',\n",
       "  '',\n",
       "  datetime.datetime(2024, 8, 24, 10, 35, 26)),\n",
       " (4,\n",
       "  'JJ',\n",
       "  '12345678',\n",
       "  'jj@gmail.com',\n",
       "  '0978111222',\n",
       "  'rrrrrrr',\n",
       "  datetime.datetime(2024, 8, 24, 10, 40, 19)),\n",
       " (5,\n",
       "  'vvv',\n",
       "  '12345678',\n",
       "  'mary@gma',\n",
       "  '0978111444',\n",
       "  '',\n",
       "  datetime.datetime(2024, 8, 24, 10, 41)),\n",
       " (6,\n",
       "  'jjj',\n",
       "  '12345678',\n",
       "  'jjj@gmail.com',\n",
       "  '0977123456',\n",
       "  'asdasfaddfa',\n",
       "  datetime.datetime(2024, 8, 24, 11, 55, 49)),\n",
       " (7,\n",
       "  'abc',\n",
       "  '12345678',\n",
       "  'abc@gmail.com',\n",
       "  '0988333222',\n",
       "  '123145464646',\n",
       "  datetime.datetime(2024, 8, 24, 11, 59, 41)),\n",
       " (9,\n",
       "  'qqq',\n",
       "  '12345678',\n",
       "  'qqq@gmail.com',\n",
       "  '0977444333',\n",
       "  'sadgkhgf',\n",
       "  datetime.datetime(2024, 8, 24, 12, 2, 13)))"
      ]
     },
     "execution_count": 28,
     "metadata": {},
     "output_type": "execute_result"
    }
   ],
   "source": [
    "sqlstr=\"\"\"\n",
    "        select * \n",
    "        from user ;\n",
    "       \"\"\"\n",
    "\n",
    "cursor.execute(sqlstr)\n",
    "users=cursor.fetchall()\n",
    "users"
   ]
  },
  {
   "cell_type": "markdown",
   "metadata": {},
   "source": [
    "### 建立商品資料表\n",
    "- id       - int ( AI )\n",
    "- name     - verchar(100)   - uniqne\n",
    "- price    - float\n",
    "- qty      - int            - default:1\n",
    "- info     -text            - 可以為空"
   ]
  },
  {
   "cell_type": "code",
   "execution_count": 30,
   "metadata": {},
   "outputs": [
    {
     "data": {
      "text/plain": [
       "((1,\n",
       "  None,\n",
       "  '12345678',\n",
       "  '123@gmail.com',\n",
       "  '0987654321',\n",
       "  '北極圈信義區大象路123號',\n",
       "  datetime.datetime(2024, 8, 24, 10, 11, 5)),\n",
       " (2,\n",
       "  None,\n",
       "  '12345678',\n",
       "  'mary@gmail.com',\n",
       "  '0978222333',\n",
       "  '',\n",
       "  datetime.datetime(2024, 8, 24, 10, 35, 26)),\n",
       " (4,\n",
       "  'JJ',\n",
       "  '12345678',\n",
       "  'jj@gmail.com',\n",
       "  '0978111222',\n",
       "  'rrrrrrr',\n",
       "  datetime.datetime(2024, 8, 24, 10, 40, 19)),\n",
       " (5,\n",
       "  'vvv',\n",
       "  '12345678',\n",
       "  'mary@gma',\n",
       "  '0978111444',\n",
       "  '',\n",
       "  datetime.datetime(2024, 8, 24, 10, 41)),\n",
       " (6,\n",
       "  'jjj',\n",
       "  '12345678',\n",
       "  'jjj@gmail.com',\n",
       "  '0977123456',\n",
       "  'asdasfaddfa',\n",
       "  datetime.datetime(2024, 8, 24, 11, 55, 49)),\n",
       " (7,\n",
       "  'abc',\n",
       "  '12345678',\n",
       "  'abc@gmail.com',\n",
       "  '0988333222',\n",
       "  '123145464646',\n",
       "  datetime.datetime(2024, 8, 24, 11, 59, 41)),\n",
       " (9,\n",
       "  'qqq',\n",
       "  '12345678',\n",
       "  'qqq@gmail.com',\n",
       "  '0977444333',\n",
       "  'sadgkhgf',\n",
       "  datetime.datetime(2024, 8, 24, 12, 2, 13)))"
      ]
     },
     "execution_count": 30,
     "metadata": {},
     "output_type": "execute_result"
    }
   ],
   "source": [
    "sqlstr=\"\"\"\n",
    "        select * \n",
    "        from user ;\n",
    "       \"\"\"\n",
    "cursor.execute(sqlstr)\n",
    "users=cursor.fetchall()\n",
    "users"
   ]
  },
  {
   "cell_type": "code",
   "execution_count": 110,
   "metadata": {},
   "outputs": [
    {
     "data": {
      "text/plain": [
       "<bound method Connection.close of <pymysql.connections.Connection object at 0x000001DDD414CFE0>>"
      ]
     },
     "execution_count": 110,
     "metadata": {},
     "output_type": "execute_result"
    }
   ],
   "source": [
    "connect.close"
   ]
  },
  {
   "cell_type": "code",
   "execution_count": 103,
   "metadata": {},
   "outputs": [
    {
     "data": {
      "text/plain": [
       "<pymysql.connections.Connection at 0x1ddd414c8f0>"
      ]
     },
     "execution_count": 103,
     "metadata": {},
     "output_type": "execute_result"
    }
   ],
   "source": [
    "connect=pymysql.connect(\n",
    "    user='root',\n",
    "    password='12345678',\n",
    "    host='127.0.0.1', # localhost\n",
    "    database='item',\n",
    "    port=3306\n",
    ")\n",
    "\n",
    "connect\n"
   ]
  },
  {
   "cell_type": "code",
   "execution_count": 104,
   "metadata": {},
   "outputs": [
    {
     "data": {
      "text/plain": [
       "<pymysql.cursors.Cursor at 0x1ddd414c410>"
      ]
     },
     "execution_count": 104,
     "metadata": {},
     "output_type": "execute_result"
    }
   ],
   "source": [
    "cursor=connect.cursor()\n",
    "cursor"
   ]
  },
  {
   "cell_type": "code",
   "execution_count": 105,
   "metadata": {},
   "outputs": [
    {
     "data": {
      "text/plain": [
       "((1, 'macbook air', 35000.0, 97, '256ssd 16g', '0000-00-00'),\n",
       " (2, 'asus zenbool 14\" notebook', 24900.0, 98, '256g 12g', '0000-00-00'),\n",
       " (3, 'apple iphone 14 pro', 35900.0, 0, '256g 12', '0000-00-00'),\n",
       " (4, 'apple iphone 14 pro max', 42900.0, 98, '512g 16g', '0000-00-00'),\n",
       " (5, 'apple iphone 14', 29900.0, 97, '128g 8g', '0000-00-00'))"
      ]
     },
     "execution_count": 105,
     "metadata": {},
     "output_type": "execute_result"
    }
   ],
   "source": [
    "def update_item():\n",
    "        sqlstr=\"\"\"\n",
    "                select * \n",
    "                from item ;\n",
    "        \"\"\"\n",
    "        cursor.execute(sqlstr)\n",
    "        items=cursor.fetchall()\n",
    "        return items\n",
    "\n",
    "update_item()"
   ]
  },
  {
   "cell_type": "code",
   "execution_count": 97,
   "metadata": {},
   "outputs": [
    {
     "name": "stdout",
     "output_type": "stream",
     "text": [
      "--------------------------------------------------\n",
      "1.商品名稱:macbook air 價格:35000.0 數量:100 備註:256ssd 16g\n",
      "2.商品名稱:asus zenbool 14\" notebook 價格:24900.0 數量:100 備註:256g 12g\n",
      "3.商品名稱:apple iphone 14 pro 價格:35900.0 數量:0 備註:256g 12\n",
      "4.商品名稱:apple iphone 14 pro max 價格:42900.0 數量:100 備註:512g 16g\n",
      "5.商品名稱:apple iphone 14 價格:29900.0 數量:100 備註:128g 8g\n",
      "--------------------------------------------------\n",
      "===>macbook air加入購物車\n",
      "update item set qty=99 where id=1;\n",
      "--------------------------------------------------\n",
      "1.商品名稱:macbook air 價格:35000.0 數量:99 備註:256ssd 16g\n",
      "2.商品名稱:asus zenbool 14\" notebook 價格:24900.0 數量:100 備註:256g 12g\n",
      "3.商品名稱:apple iphone 14 pro 價格:35900.0 數量:0 備註:256g 12\n",
      "4.商品名稱:apple iphone 14 pro max 價格:42900.0 數量:100 備註:512g 16g\n",
      "5.商品名稱:apple iphone 14 價格:29900.0 數量:100 備註:128g 8g\n",
      "--------------------------------------------------\n",
      "****apple iphone 14 pro 目前無庫存\n",
      "--------------------------------------------------\n",
      "1.商品名稱:macbook air 價格:35000.0 數量:99 備註:256ssd 16g\n",
      "2.商品名稱:asus zenbool 14\" notebook 價格:24900.0 數量:100 備註:256g 12g\n",
      "3.商品名稱:apple iphone 14 pro 價格:35900.0 數量:0 備註:256g 12\n",
      "4.商品名稱:apple iphone 14 pro max 價格:42900.0 數量:100 備註:512g 16g\n",
      "5.商品名稱:apple iphone 14 價格:29900.0 數量:100 備註:128g 8g\n",
      "--------------------------------------------------\n",
      "****apple iphone 14 pro 目前無庫存\n",
      "--------------------------------------------------\n",
      "1.商品名稱:macbook air 價格:35000.0 數量:99 備註:256ssd 16g\n",
      "2.商品名稱:asus zenbool 14\" notebook 價格:24900.0 數量:100 備註:256g 12g\n",
      "3.商品名稱:apple iphone 14 pro 價格:35900.0 數量:0 備註:256g 12\n",
      "4.商品名稱:apple iphone 14 pro max 價格:42900.0 數量:100 備註:512g 16g\n",
      "5.商品名稱:apple iphone 14 價格:29900.0 數量:100 備註:128g 8g\n",
      "--------------------------------------------------\n",
      "===>asus zenbool 14\" notebook加入購物車\n",
      "update item set qty=99 where id=2;\n",
      "--------------------------------------------------\n",
      "1.商品名稱:macbook air 價格:35000.0 數量:99 備註:256ssd 16g\n",
      "2.商品名稱:asus zenbool 14\" notebook 價格:24900.0 數量:99 備註:256g 12g\n",
      "3.商品名稱:apple iphone 14 pro 價格:35900.0 數量:0 備註:256g 12\n",
      "4.商品名稱:apple iphone 14 pro max 價格:42900.0 數量:100 備註:512g 16g\n",
      "5.商品名稱:apple iphone 14 價格:29900.0 數量:100 備註:128g 8g\n",
      "--------------------------------------------------\n",
      "****apple iphone 14 pro 目前無庫存\n",
      "--------------------------------------------------\n",
      "1.商品名稱:macbook air 價格:35000.0 數量:99 備註:256ssd 16g\n",
      "2.商品名稱:asus zenbool 14\" notebook 價格:24900.0 數量:99 備註:256g 12g\n",
      "3.商品名稱:apple iphone 14 pro 價格:35900.0 數量:0 備註:256g 12\n",
      "4.商品名稱:apple iphone 14 pro max 價格:42900.0 數量:100 備註:512g 16g\n",
      "5.商品名稱:apple iphone 14 價格:29900.0 數量:100 備註:128g 8g\n",
      "--------------------------------------------------\n",
      "===>apple iphone 14 pro max加入購物車\n",
      "update item set qty=99 where id=4;\n",
      "--------------------------------------------------\n",
      "1.商品名稱:macbook air 價格:35000.0 數量:99 備註:256ssd 16g\n",
      "2.商品名稱:asus zenbool 14\" notebook 價格:24900.0 數量:99 備註:256g 12g\n",
      "3.商品名稱:apple iphone 14 pro 價格:35900.0 數量:0 備註:256g 12\n",
      "4.商品名稱:apple iphone 14 pro max 價格:42900.0 數量:99 備註:512g 16g\n",
      "5.商品名稱:apple iphone 14 價格:29900.0 數量:100 備註:128g 8g\n",
      "--------------------------------------------------\n",
      "===>apple iphone 14加入購物車\n",
      "update item set qty=99 where id=5;\n",
      "--------------------------------------------------\n",
      "1.商品名稱:macbook air 價格:35000.0 數量:99 備註:256ssd 16g\n",
      "2.商品名稱:asus zenbool 14\" notebook 價格:24900.0 數量:99 備註:256g 12g\n",
      "3.商品名稱:apple iphone 14 pro 價格:35900.0 數量:0 備註:256g 12\n",
      "4.商品名稱:apple iphone 14 pro max 價格:42900.0 數量:99 備註:512g 16g\n",
      "5.商品名稱:apple iphone 14 價格:29900.0 數量:99 備註:128g 8g\n",
      "--------------------------------------------------\n",
      "===>apple iphone 14加入購物車\n",
      "update item set qty=98 where id=5;\n",
      "--------------------------------------------------\n",
      "1.商品名稱:macbook air 價格:35000.0 數量:99 備註:256ssd 16g\n",
      "2.商品名稱:asus zenbool 14\" notebook 價格:24900.0 數量:99 備註:256g 12g\n",
      "3.商品名稱:apple iphone 14 pro 價格:35900.0 數量:0 備註:256g 12\n",
      "4.商品名稱:apple iphone 14 pro max 價格:42900.0 數量:99 備註:512g 16g\n",
      "5.商品名稱:apple iphone 14 價格:29900.0 數量:98 備註:128g 8g\n",
      "--------------------------------------------------\n",
      "===>apple iphone 14 pro max加入購物車\n",
      "update item set qty=98 where id=4;\n",
      "--------------------------------------------------\n",
      "1.商品名稱:macbook air 價格:35000.0 數量:99 備註:256ssd 16g\n",
      "2.商品名稱:asus zenbool 14\" notebook 價格:24900.0 數量:99 備註:256g 12g\n",
      "3.商品名稱:apple iphone 14 pro 價格:35900.0 數量:0 備註:256g 12\n",
      "4.商品名稱:apple iphone 14 pro max 價格:42900.0 數量:98 備註:512g 16g\n",
      "5.商品名稱:apple iphone 14 價格:29900.0 數量:98 備註:128g 8g\n",
      "--------------------------------------------------\n",
      "===>macbook air加入購物車\n",
      "update item set qty=98 where id=1;\n",
      "--------------------------------------------------\n",
      "1.商品名稱:macbook air 價格:35000.0 數量:98 備註:256ssd 16g\n",
      "2.商品名稱:asus zenbool 14\" notebook 價格:24900.0 數量:99 備註:256g 12g\n",
      "3.商品名稱:apple iphone 14 pro 價格:35900.0 數量:0 備註:256g 12\n",
      "4.商品名稱:apple iphone 14 pro max 價格:42900.0 數量:98 備註:512g 16g\n",
      "5.商品名稱:apple iphone 14 價格:29900.0 數量:98 備註:128g 8g\n",
      "--------------------------------------------------\n",
      "輸入不正確\n",
      "--------------------------------------------------\n",
      "1.商品名稱:macbook air 價格:35000.0 數量:98 備註:256ssd 16g\n",
      "2.商品名稱:asus zenbool 14\" notebook 價格:24900.0 數量:99 備註:256g 12g\n",
      "3.商品名稱:apple iphone 14 pro 價格:35900.0 數量:0 備註:256g 12\n",
      "4.商品名稱:apple iphone 14 pro max 價格:42900.0 數量:98 備註:512g 16g\n",
      "5.商品名稱:apple iphone 14 價格:29900.0 數量:98 備註:128g 8g\n",
      "--------------------------------------------------\n",
      "===>apple iphone 14加入購物車\n",
      "update item set qty=97 where id=5;\n",
      "--------------------------------------------------\n",
      "1.商品名稱:macbook air 價格:35000.0 數量:98 備註:256ssd 16g\n",
      "2.商品名稱:asus zenbool 14\" notebook 價格:24900.0 數量:99 備註:256g 12g\n",
      "3.商品名稱:apple iphone 14 pro 價格:35900.0 數量:0 備註:256g 12\n",
      "4.商品名稱:apple iphone 14 pro max 價格:42900.0 數量:98 備註:512g 16g\n",
      "5.商品名稱:apple iphone 14 價格:29900.0 數量:97 備註:128g 8g\n",
      "--------------------------------------------------\n",
      "===>asus zenbool 14\" notebook加入購物車\n",
      "update item set qty=98 where id=2;\n",
      "--------------------------------------------------\n",
      "1.商品名稱:macbook air 價格:35000.0 數量:98 備註:256ssd 16g\n",
      "2.商品名稱:asus zenbool 14\" notebook 價格:24900.0 數量:98 備註:256g 12g\n",
      "3.商品名稱:apple iphone 14 pro 價格:35900.0 數量:0 備註:256g 12\n",
      "4.商品名稱:apple iphone 14 pro max 價格:42900.0 數量:98 備註:512g 16g\n",
      "5.商品名稱:apple iphone 14 價格:29900.0 數量:97 備註:128g 8g\n",
      "--------------------------------------------------\n",
      "===>macbook air加入購物車\n",
      "update item set qty=97 where id=1;\n",
      "--------------------------------------------------\n",
      "1.商品名稱:macbook air 價格:35000.0 數量:97 備註:256ssd 16g\n",
      "2.商品名稱:asus zenbool 14\" notebook 價格:24900.0 數量:98 備註:256g 12g\n",
      "3.商品名稱:apple iphone 14 pro 價格:35900.0 數量:0 備註:256g 12\n",
      "4.商品名稱:apple iphone 14 pro max 價格:42900.0 數量:98 備註:512g 16g\n",
      "5.商品名稱:apple iphone 14 價格:29900.0 數量:97 備註:128g 8g\n",
      "--------------------------------------------------\n",
      "完成購買\n",
      "[(1, 'macbook air', 35000.0, 100, '256ssd 16g', '0000-00-00'), (2, 'asus zenbool 14\" notebook', 24900.0, 100, '256g 12g', '0000-00-00'), (4, 'apple iphone 14 pro max', 42900.0, 100, '512g 16g', '0000-00-00'), (5, 'apple iphone 14', 29900.0, 100, '128g 8g', '0000-00-00'), (5, 'apple iphone 14', 29900.0, 99, '128g 8g', '0000-00-00'), (4, 'apple iphone 14 pro max', 42900.0, 99, '512g 16g', '0000-00-00'), (1, 'macbook air', 35000.0, 99, '256ssd 16g', '0000-00-00'), (5, 'apple iphone 14', 29900.0, 98, '128g 8g', '0000-00-00'), (2, 'asus zenbool 14\" notebook', 24900.0, 99, '256g 12g', '0000-00-00'), (1, 'macbook air', 35000.0, 98, '256ssd 16g', '0000-00-00')]\n"
     ]
    }
   ],
   "source": [
    "cart=[]\n",
    "\n",
    "#print('-'*50)\n",
    "#for i,item in enumerate(items):\n",
    "#    print(f\"{i+1}.商品名稱:{item[1]} 價格:{item[2]} 數量:{item[3]} 備註:{item[4]}\")\n",
    "\n",
    "while True:\n",
    "    # 同步更新最新產品\n",
    "    items=update_item()\n",
    "    #選單\n",
    "    print('-'*50)\n",
    "    for i,item in enumerate(items):\n",
    "        print(f\"{i+1}.商品名稱:{item[1]} 價格:{item[2]} 數量:{item[3]} 備註:{item[4]}\")\n",
    "    print('-'*50)\n",
    "\n",
    "    choice=int(input(\"輸入編號(0:exit):\"))\n",
    "    if choice==0:\n",
    "        break\n",
    "\n",
    "    # 選項>=1 and <= len(item) 輸入不正確\n",
    "    if choice<1 or choice>len(items):\n",
    "        print(\"輸入不正確\")\n",
    "        continue\n",
    "    # 紀錄購買商品\n",
    "    buy_item=items[choice-1]\n",
    "\n",
    "    # 數量小於1(無庫存)\n",
    "    if items[choice-1][3] <1:\n",
    "        print(f\"****{buy_item[1]} 目前無庫存\")\n",
    "        continue\n",
    "\n",
    "    # 加入購物車\n",
    "    cart.append(buy_item)\n",
    "    print(f\"===>{buy_item[1]}加入購物車\")\n",
    "    \n",
    "    # 更新商品數量\n",
    "    sqlstr=f\"update item set qty={buy_item[3]-1} where id={buy_item[0]};\"\n",
    "    print(sqlstr)\n",
    "    cursor.execute(sqlstr)\n",
    "    connect.commit()\n",
    "\n",
    "print(\"完成購買\")\n",
    "print(cart)"
   ]
  },
  {
   "cell_type": "markdown",
   "metadata": {},
   "source": [
    "### 送訂單\n",
    "- id\n",
    "- user_id\n",
    "- item_id\n",
    "- created_time"
   ]
  },
  {
   "cell_type": "code",
   "execution_count": 145,
   "metadata": {},
   "outputs": [
    {
     "data": {
      "text/plain": [
       "[(1, 'macbook air', 35000.0, 100, '256ssd 16g', '0000-00-00'),\n",
       " (2, 'asus zenbool 14\" notebook', 24900.0, 100, '256g 12g', '0000-00-00'),\n",
       " (4, 'apple iphone 14 pro max', 42900.0, 100, '512g 16g', '0000-00-00'),\n",
       " (5, 'apple iphone 14', 29900.0, 100, '128g 8g', '0000-00-00'),\n",
       " (5, 'apple iphone 14', 29900.0, 99, '128g 8g', '0000-00-00'),\n",
       " (4, 'apple iphone 14 pro max', 42900.0, 99, '512g 16g', '0000-00-00'),\n",
       " (1, 'macbook air', 35000.0, 99, '256ssd 16g', '0000-00-00'),\n",
       " (5, 'apple iphone 14', 29900.0, 98, '128g 8g', '0000-00-00'),\n",
       " (2, 'asus zenbool 14\" notebook', 24900.0, 99, '256g 12g', '0000-00-00'),\n",
       " (1, 'macbook air', 35000.0, 98, '256ssd 16g', '0000-00-00')]"
      ]
     },
     "execution_count": 145,
     "metadata": {},
     "output_type": "execute_result"
    }
   ],
   "source": [
    "cart"
   ]
  },
  {
   "cell_type": "code",
   "execution_count": 156,
   "metadata": {},
   "outputs": [
    {
     "data": {
      "text/plain": [
       "<bound method Connection.close of <pymysql.connections.Connection object at 0x000001DDD36E33B0>>"
      ]
     },
     "execution_count": 156,
     "metadata": {},
     "output_type": "execute_result"
    }
   ],
   "source": [
    "connect.close"
   ]
  },
  {
   "cell_type": "code",
   "execution_count": 157,
   "metadata": {},
   "outputs": [
    {
     "data": {
      "text/plain": [
       "<pymysql.connections.Connection at 0x1ddd36ee000>"
      ]
     },
     "execution_count": 157,
     "metadata": {},
     "output_type": "execute_result"
    }
   ],
   "source": [
    "connect=pymysql.connect(\n",
    "    user='root',\n",
    "    password='12345678',\n",
    "    host='127.0.0.1', # localhost\n",
    "    database='shop',\n",
    "    port=3306\n",
    ")\n",
    "\n",
    "connect\n",
    "\n"
   ]
  },
  {
   "cell_type": "code",
   "execution_count": 158,
   "metadata": {},
   "outputs": [
    {
     "data": {
      "text/plain": [
       "<pymysql.cursors.Cursor at 0x1ddd346ac00>"
      ]
     },
     "execution_count": 158,
     "metadata": {},
     "output_type": "execute_result"
    }
   ],
   "source": [
    "cursor=connect.cursor()\n",
    "cursor"
   ]
  },
  {
   "cell_type": "code",
   "execution_count": 159,
   "metadata": {},
   "outputs": [
    {
     "data": {
      "text/plain": [
       "()"
      ]
     },
     "execution_count": 159,
     "metadata": {},
     "output_type": "execute_result"
    }
   ],
   "source": [
    "sqlstr=\"\"\"\n",
    "            select * \n",
    "            from `order` ;\n",
    "    \"\"\"\n",
    "cursor.execute(sqlstr)\n",
    "orders=cursor.fetchall()\n",
    "orders\n"
   ]
  },
  {
   "cell_type": "code",
   "execution_count": 160,
   "metadata": {},
   "outputs": [
    {
     "name": "stdout",
     "output_type": "stream",
     "text": [
      "(1, 'macbook air', 35000.0, 100, '256ssd 16g', '0000-00-00')\n",
      "insert into `order` (user_id,item_id) values(6,1);\n",
      "送出訂單!\n",
      "(2, 'asus zenbool 14\" notebook', 24900.0, 100, '256g 12g', '0000-00-00')\n",
      "insert into `order` (user_id,item_id) values(6,2);\n",
      "送出訂單!\n",
      "(4, 'apple iphone 14 pro max', 42900.0, 100, '512g 16g', '0000-00-00')\n",
      "insert into `order` (user_id,item_id) values(6,4);\n",
      "送出訂單!\n",
      "(5, 'apple iphone 14', 29900.0, 100, '128g 8g', '0000-00-00')\n",
      "insert into `order` (user_id,item_id) values(6,5);\n",
      "送出訂單!\n",
      "(5, 'apple iphone 14', 29900.0, 99, '128g 8g', '0000-00-00')\n",
      "insert into `order` (user_id,item_id) values(6,5);\n",
      "送出訂單!\n",
      "(4, 'apple iphone 14 pro max', 42900.0, 99, '512g 16g', '0000-00-00')\n",
      "insert into `order` (user_id,item_id) values(6,4);\n",
      "送出訂單!\n",
      "(1, 'macbook air', 35000.0, 99, '256ssd 16g', '0000-00-00')\n",
      "insert into `order` (user_id,item_id) values(6,1);\n",
      "送出訂單!\n",
      "(5, 'apple iphone 14', 29900.0, 98, '128g 8g', '0000-00-00')\n",
      "insert into `order` (user_id,item_id) values(6,5);\n",
      "送出訂單!\n",
      "(2, 'asus zenbool 14\" notebook', 24900.0, 99, '256g 12g', '0000-00-00')\n",
      "insert into `order` (user_id,item_id) values(6,2);\n",
      "送出訂單!\n",
      "(1, 'macbook air', 35000.0, 98, '256ssd 16g', '0000-00-00')\n",
      "insert into `order` (user_id,item_id) values(6,1);\n",
      "送出訂單!\n"
     ]
    }
   ],
   "source": [
    "for item in cart:\n",
    "    print(item)\n",
    "    sqlstr=f\"insert into `order` (user_id,item_id) values({user[0]},{item[0]});\"\n",
    "    print(sqlstr)\n",
    "    cursor.execute(sqlstr)\n",
    "    connect.commit\n",
    "    print(\"送出訂單!\")"
   ]
  },
  {
   "cell_type": "code",
   "execution_count": 161,
   "metadata": {},
   "outputs": [
    {
     "data": {
      "text/plain": [
       "((0, 6, 1, datetime.date(2024, 8, 24)),\n",
       " (0, 6, 2, datetime.date(2024, 8, 24)),\n",
       " (0, 6, 4, datetime.date(2024, 8, 24)),\n",
       " (0, 6, 5, datetime.date(2024, 8, 24)),\n",
       " (0, 6, 5, datetime.date(2024, 8, 24)),\n",
       " (0, 6, 4, datetime.date(2024, 8, 24)),\n",
       " (0, 6, 1, datetime.date(2024, 8, 24)),\n",
       " (0, 6, 5, datetime.date(2024, 8, 24)),\n",
       " (0, 6, 2, datetime.date(2024, 8, 24)),\n",
       " (0, 6, 1, datetime.date(2024, 8, 24)))"
      ]
     },
     "execution_count": 161,
     "metadata": {},
     "output_type": "execute_result"
    }
   ],
   "source": [
    "# 找出user\n",
    "\n",
    "sqlstr=\"select * from `order` ;\"\n",
    "cursor.execute(sqlstr)\n",
    "orders=cursor.fetchall()\n",
    "orders"
   ]
  },
  {
   "cell_type": "code",
   "execution_count": 162,
   "metadata": {},
   "outputs": [
    {
     "data": {
      "text/plain": [
       "6"
      ]
     },
     "execution_count": 162,
     "metadata": {},
     "output_type": "execute_result"
    }
   ],
   "source": [
    "user_id=orders[0][1]\n",
    "user_id"
   ]
  },
  {
   "cell_type": "code",
   "execution_count": 163,
   "metadata": {},
   "outputs": [
    {
     "data": {
      "text/plain": [
       "(6,\n",
       " 'jjj',\n",
       " '12345678',\n",
       " 'jjj@gmail.com',\n",
       " '0977123456',\n",
       " 'asdasfaddfa',\n",
       " datetime.datetime(2024, 8, 24, 11, 55, 49))"
      ]
     },
     "execution_count": 163,
     "metadata": {},
     "output_type": "execute_result"
    }
   ],
   "source": [
    "sqlstr=f\"select * from user where id={user_id}\"\n",
    "cursor.execute(sqlstr)\n",
    "user=cursor.fetchone()\n",
    "user"
   ]
  },
  {
   "cell_type": "code",
   "execution_count": 164,
   "metadata": {},
   "outputs": [
    {
     "data": {
      "text/plain": [
       "((1,), (2,), (4,), (5,), (5,), (4,), (1,), (5,), (2,), (1,))"
      ]
     },
     "execution_count": 164,
     "metadata": {},
     "output_type": "execute_result"
    }
   ],
   "source": [
    "sqlstr=f\"select item_id from `order` where user_id={user_id}\"\n",
    "cursor.execute(sqlstr)\n",
    "buy_items=cursor.fetchall()\n",
    "buy_items"
   ]
  },
  {
   "cell_type": "code",
   "execution_count": 169,
   "metadata": {},
   "outputs": [
    {
     "name": "stdout",
     "output_type": "stream",
     "text": [
      "收收穫人:jjj\n",
      "e-mail:jjj@gmail.com\n",
      "電話:0977123456\n",
      "地址:asdasfaddfa\n",
      "==================================================\n",
      "1,macbook air price:35000.0\n",
      "2,asus zenbool 14\" notebook price:24900.0\n",
      "3,apple iphone 14 pro max price:42900.0\n",
      "4,apple iphone 14 price:29900.0\n",
      "5,apple iphone 14 price:29900.0\n",
      "6,apple iphone 14 pro max price:42900.0\n",
      "7,macbook air price:35000.0\n",
      "8,apple iphone 14 price:29900.0\n",
      "9,asus zenbool 14\" notebook price:24900.0\n",
      "10,macbook air price:35000.0\n",
      "==================================================\n",
      "總計為:330300.0\n"
     ]
    }
   ],
   "source": [
    "print(f\"收收穫人:{user[1]}\")\n",
    "print(f\"e-mail:{user[3]}\")\n",
    "print(f\"電話:{user[4]}\")\n",
    "print(f\"地址:{user[5]}\")\n",
    "\n",
    "print(\"=\"*50)\n",
    "total=0\n",
    "for i,item_id in enumerate(buy_items):\n",
    "    #print(item_id[0])\n",
    "    sqlstr = f\"select name, price from item where id={item_id[0]};\"\n",
    "    cursor.execute(sqlstr)\n",
    "    item=cursor.fetchone()\n",
    "    print(f\"{i+1},{item[0]} price:{item[1]}\")\n",
    "    total+=item[1]\n",
    "\n",
    "print(\"=\"*50)\n",
    "print(f\"總計為:{total}\")"
   ]
  },
  {
   "cell_type": "markdown",
   "metadata": {},
   "source": [
    "### 將以送出的訂單，增加欄位shipped (Bool => true/false)\n",
    "- 出貨 => true"
   ]
  },
  {
   "cell_type": "code",
   "execution_count": null,
   "metadata": {},
   "outputs": [],
   "source": []
  }
 ],
 "metadata": {
  "kernelspec": {
   "display_name": "Python 3",
   "language": "python",
   "name": "python3"
  },
  "language_info": {
   "codemirror_mode": {
    "name": "ipython",
    "version": 3
   },
   "file_extension": ".py",
   "mimetype": "text/x-python",
   "name": "python",
   "nbconvert_exporter": "python",
   "pygments_lexer": "ipython3",
   "version": "3.12.3"
  }
 },
 "nbformat": 4,
 "nbformat_minor": 2
}
